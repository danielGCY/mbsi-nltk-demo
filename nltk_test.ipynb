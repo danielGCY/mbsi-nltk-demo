{
 "cells": [
  {
   "cell_type": "markdown",
   "id": "efbfee49-365a-48da-963d-e39ba608277b",
   "metadata": {},
   "source": [
    "# NLTK Test Notebook"
   ]
  },
  {
   "cell_type": "code",
   "execution_count": null,
   "id": "4ae4a61b-432a-4ae2-8603-18a7cd41c177",
   "metadata": {},
   "outputs": [],
   "source": [
    "import nltk\n",
    "from nltk.tokenize import word_tokenize\n",
    "from nltk.tokenize import sent_tokenize\n"
   ]
  },
  {
   "cell_type": "code",
   "execution_count": null,
   "id": "d9d59521-8037-4f92-a93e-f256b566d825",
   "metadata": {},
   "outputs": [],
   "source": [
    "nltk.download('punkt')"
   ]
  },
  {
   "cell_type": "code",
   "execution_count": null,
   "id": "10c9b14b-630e-43ce-a2b8-12dad75dff87",
   "metadata": {},
   "outputs": [],
   "source": [
    "txt = \"\"\"The lungs demonstrate linear subsegmental atelectasis at both\n",
    "bases. The lungs are otherwise clear. Additional hyperdensity is noted at the GE junction. There is no free\n",
    "air or free fluid. There are no pathologically enlarged nodes. There is a small\n",
    "amount of fluid in the pelvis. There are\n",
    "degenerative changes of the spine. END OF IMPRESSION:\"\"\""
   ]
  },
  {
   "cell_type": "code",
   "execution_count": null,
   "id": "6b14c0da-3f3f-4471-9742-70079c2cd6c6",
   "metadata": {},
   "outputs": [],
   "source": [
    "print(sent_tokenize(txt))"
   ]
  },
  {
   "cell_type": "code",
   "execution_count": null,
   "id": "cd89f7ef-da61-49c1-8312-71ece4ff6805",
   "metadata": {},
   "outputs": [],
   "source": []
  }
 ],
 "metadata": {
  "kernelspec": {
   "display_name": "Python 3",
   "language": "python",
   "name": "python3"
  },
  "language_info": {
   "codemirror_mode": {
    "name": "ipython",
    "version": 3
   },
   "file_extension": ".py",
   "mimetype": "text/x-python",
   "name": "python",
   "nbconvert_exporter": "python",
   "pygments_lexer": "ipython3",
   "version": "3.9.4"
  }
 },
 "nbformat": 4,
 "nbformat_minor": 5
}
